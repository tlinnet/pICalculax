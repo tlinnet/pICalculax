{
 "cells": [
  {
   "cell_type": "markdown",
   "metadata": {},
   "source": [
    "# Using command line"
   ]
  },
  {
   "cell_type": "code",
   "execution_count": 1,
   "metadata": {},
   "outputs": [
    {
     "name": "stdout",
     "output_type": "stream",
     "text": [
      "Python 2.7.14 :: Anaconda custom (64-bit)\n",
      "Calling pICalculax.py with arguments: --fasta ICECREAM FATCAT\n",
      "4.14 \tICECREAM\n",
      "5.02 \tFATCAT\n"
     ]
    }
   ],
   "source": [
    "! pICalculax --fasta ICECREAM FATCAT"
   ]
  },
  {
   "cell_type": "markdown",
   "metadata": {},
   "source": [
    "# Using python"
   ]
  },
  {
   "cell_type": "markdown",
   "metadata": {},
   "source": [
    "## imports"
   ]
  },
  {
   "cell_type": "code",
   "execution_count": 2,
   "metadata": {},
   "outputs": [],
   "source": [
    "from pICalculax import find_pKas, pI\n",
    "from rdkit import Chem\n",
    "from rdkit.Chem import Draw\n",
    "# https://github.com/rdkit/rdkit-tutorials/tree/master/notebooks\n",
    "from rdkit.Chem.Draw import IPythonConsole"
   ]
  },
  {
   "cell_type": "markdown",
   "metadata": {},
   "source": [
    "## Simple FASTA"
   ]
  },
  {
   "cell_type": "code",
   "execution_count": 3,
   "metadata": {},
   "outputs": [
    {
     "name": "stdout",
     "output_type": "stream",
     "text": [
      "4.14\n"
     ]
    }
   ],
   "source": [
    "fasta = 'ICECREAM'\n",
    "mol = Chem.MolFromFASTA(fasta)\n",
    "\n",
    "#find pKa values and charge class\n",
    "pkalist, charge = find_pKas(mol)\n",
    "#Calculate pI\n",
    "pIpred = pI(pkalist, charge)\n",
    "\n",
    "print(pIpred)"
   ]
  },
  {
   "cell_type": "markdown",
   "metadata": {},
   "source": [
    "## Load a protein from SD file in condensed format"
   ]
  },
  {
   "cell_type": "code",
   "execution_count": 4,
   "metadata": {},
   "outputs": [
    {
     "name": "stdout",
     "output_type": "stream",
     "text": [
      "Predicted pI:5.41\n"
     ]
    },
    {
     "data": {
      "image/png": "[encoded data removed]",
      "text/plain": [
       "<rdkit.Chem.rdchem.Mol at 0x7f6334e782f0>"
      ]
     },
     "metadata": {},
     "output_type": "display_data"
    },
    {
     "name": "stdout",
     "output_type": "stream",
     "text": [
      "Predicted pI:4.77\n"
     ]
    },
    {
     "data": {
      "image/png": "[encoded data removed]",
      "text/plain": [
       "<rdkit.Chem.rdchem.Mol at 0x7f6334e781a0>"
      ]
     },
     "metadata": {},
     "output_type": "display_data"
    }
   ],
   "source": [
    "import os.path\n",
    "paths = ['Datasets/example_mols.sdf', 'pICalculax_dir/Datasets/example_mols.sdf', '../pICalculax_dir/Datasets/example_mols.sdf']\n",
    "for path in paths:\n",
    "    if os.path.exists(path):\n",
    "        sdsup = Chem.SDMolSupplier(path)\n",
    "        break\n",
    "\n",
    "def predict_show(mol):\n",
    "    #Get list of identified pKa values and charge\n",
    "    pkalist, charge = find_pKas(mol)\n",
    "    #Predict the pI from the identified pKa values\n",
    "    piPred = pI(pkalist, charge)\n",
    "    #Report and Visualize\n",
    "    print(\"Predicted pI:%0.2F\"%piPred)\n",
    "    # display is a Jupyter command \n",
    "    display(mol)\n",
    "    #Draw.ShowMol(mol, legend = \"Predicted pI:%0.2F\"%piPred)\n",
    "    #Draw.tkRoot.update()\n",
    "    #txt = raw_input('Press <ENTER> to continue')\n",
    "\n",
    "# An unmodified peptide\n",
    "mol = sdsup[0]\n",
    "predict_show(mol)\n",
    "\n",
    "# A peptide with a modification\n",
    "mol = sdsup[1]\n",
    "predict_show(mol)"
   ]
  },
  {
   "cell_type": "markdown",
   "metadata": {},
   "source": [
    "### Test output"
   ]
  },
  {
   "cell_type": "code",
   "execution_count": 5,
   "metadata": {},
   "outputs": [
    {
     "name": "stdout",
     "output_type": "stream",
     "text": [
      "\n",
      "     RDKit          2D\n",
      "\n",
      "  8  7  0  0  1  0  0  0  0  0999 V2000\n",
      "    0.0000    0.0000    0.0000 Gly 0  0  0  0  0  2  0  0  0  0  0  0\n",
      "    1.0000    0.0000    0.0000 His 0  0  0  0  0  2  0  0  0  0  0  0\n",
      "    2.0000    0.0000    0.0000 Ala 0  0  0  0  0  2  0  0  0  0  0  0\n",
      "    3.0000    0.0000    0.0000 Asn 0  0  0  0  0  2  0  0  0  0  0  0\n",
      "    4.0000    0.0000    0.0000 Tyr 0  0  0  0  0  2  0  0  0  0  0  0\n",
      "    5.0000    0.0000    0.0000 Glu 0  0  0  0  0  2  0  0  0  0  0  0\n",
      "    6.0000    0.0000    0.0000 Ala 0  0  0  0  0  2  0  0  0  0  0  0\n",
      "    7.0000    0.0000    0.0000 O   0  0  0  0  0  0  0  0  0  0  0  0\n",
      "  1  2  1  0\n",
      "  2  3  1  0\n",
      "  3  4  1  0\n",
      "  4  5  1  0\n",
      "  5  6  1  0\n",
      "  6  7  1  0\n",
      "  7  8  1  0\n",
      "M  END\n",
      "$$$$\n",
      "\n"
     ]
    }
   ],
   "source": [
    "print(sdsup.GetItemText(0))"
   ]
  },
  {
   "cell_type": "code",
   "execution_count": 6,
   "metadata": {},
   "outputs": [
    {
     "name": "stdout",
     "output_type": "stream",
     "text": [
      "\n",
      "     RDKit          2D\n",
      "\n",
      " 19 18  0  0  1  0  0  0  0  0999 V2000\n",
      "    0.0000    0.0000    0.0000 Gly 0  0  0  0  0  2  0  0  0  0  0  0\n",
      "    1.0000    0.0000    0.0000 His 0  0  0  0  0  2  0  0  0  0  0  0\n",
      "    2.0000    0.0000    0.0000 Ala 0  0  0  0  0  2  0  0  0  0  0  0\n",
      "    3.0000    0.0000    0.0000 Asn 0  0  0  0  0  2  0  0  0  0  0  0\n",
      "    4.0000    0.0000    0.0000 Tyr 0  0  0  0  0  2  0  0  0  0  0  0\n",
      "    5.0000    0.0000    0.0000 N   0  0  0  0  0  0  0  0  0  0  0  0\n",
      "    5.7145   -0.4125    0.0000 C   0  0  0  0  0  0  0  0  0  0  0  0\n",
      "    6.4290    0.0000    0.0000 C   0  0  0  0  0  0  0  0  0  0  0  0\n",
      "    6.4209    0.8208    0.0000 O   0  0  0  0  0  0  0  0  0  0  0  0\n",
      "    5.7084   -1.2417    0.0000 C   0  0  0  0  0  0  0  0  0  0  0  0\n",
      "    6.4198   -1.6594    0.0000 C   0  0  0  0  0  0  0  0  0  0  0  0\n",
      "    6.4125   -2.4875    0.0000 C   0  0  0  0  0  0  0  0  0  0  0  0\n",
      "    7.1234   -2.9062    0.0000 O   0  0  0  0  0  0  0  0  0  0  0  0\n",
      "    5.6945   -2.8937    0.0000 O   0  0  0  0  0  0  0  0  0  0  0  0\n",
      "    7.2417   -1.6625    0.0000 C   0  0  0  0  0  0  0  0  0  0  0  0\n",
      "    7.6569   -0.9496    0.0000 O   0  0  0  0  0  0  0  0  0  0  0  0\n",
      "    7.6515   -2.3785    0.0000 O   0  0  0  0  0  0  0  0  0  0  0  0\n",
      "    7.4290    0.0000    0.0000 Ala 0  0  0  0  0  2  0  0  0  0  0  0\n",
      "    8.4290    0.0000    0.0000 O   0  0  0  0  0  0  0  0  0  0  0  0\n",
      "  1  2  1  0\n",
      "  2  3  1  0\n",
      "  3  4  1  0\n",
      "  4  5  1  0\n",
      " 10 11  1  0\n",
      "  6  7  1  0\n",
      " 11 12  1  0\n",
      "  8  9  2  0\n",
      " 12 13  1  0\n",
      " 12 14  2  0\n",
      " 11 15  1  0\n",
      "  7 10  1  6\n",
      " 15 16  1  0\n",
      "  7  8  1  0\n",
      " 15 17  2  0\n",
      "  5  6  1  0\n",
      "  8 18  1  0\n",
      " 18 19  1  0\n",
      "M  END\n",
      "$$$$\n",
      "\n"
     ]
    }
   ],
   "source": [
    "print(sdsup.GetItemText(1))"
   ]
  },
  {
   "cell_type": "code",
   "execution_count": null,
   "metadata": {},
   "outputs": [],
   "source": []
  }
 ],
 "metadata": {
  "kernelspec": {
   "display_name": "Python 2",
   "language": "python",
   "name": "python2"
  },
  "language_info": {
   "codemirror_mode": {
    "name": "ipython",
    "version": 2
   },
   "file_extension": ".py",
   "mimetype": "text/x-python",
   "name": "python",
   "nbconvert_exporter": "python",
   "pygments_lexer": "ipython2",
   "version": "2.7.14"
  }
 },
 "nbformat": 4,
 "nbformat_minor": 2
}
